{
  "cells": [
    {
      "cell_type": "markdown",
      "metadata": {
        "id": "HvSyO-nVCZO4"
      },
      "source": [
        "### 파이썬 3주차: 함수"
      ]
    },
    {
      "cell_type": "markdown",
      "metadata": {
        "id": "wnjs5g_zCiTO"
      },
      "source": [
        "함수의 정의: 어떤 집합의 각 원소를 다른 어떤 집합의 유일한 원소에 대응시키는 이항 관계\n",
        "\n",
        "**파이썬에서의 함수: input 자료를 바탕으로 일련의 output을 return하는 것 (일반적인 목표)**"
      ]
    },
    {
      "cell_type": "code",
      "execution_count": 1,
      "metadata": {
        "id": "Wt5FaosyCWEv"
      },
      "outputs": [],
      "source": [
        "def add(a, b):\n",
        "  return a + b"
      ]
    },
    {
      "cell_type": "code",
      "execution_count": 2,
      "metadata": {
        "colab": {
          "base_uri": "https://localhost:8080/"
        },
        "id": "6y9JR7GwDPPU",
        "outputId": "5d5a8e8e-f681-4acc-aa12-a53bd08d97d9"
      },
      "outputs": [
        {
          "data": {
            "text/plain": [
              "3"
            ]
          },
          "execution_count": 2,
          "metadata": {},
          "output_type": "execute_result"
        }
      ],
      "source": [
        "add(1, 2)"
      ]
    },
    {
      "cell_type": "code",
      "execution_count": 3,
      "metadata": {
        "id": "jR0NB3IgDRdg"
      },
      "outputs": [],
      "source": [
        "def subtract(a, b):\n",
        "  return a - b"
      ]
    },
    {
      "cell_type": "code",
      "execution_count": 4,
      "metadata": {
        "colab": {
          "base_uri": "https://localhost:8080/"
        },
        "id": "YW7t-ZI8DbJO",
        "outputId": "b5eaea62-67fa-4526-ab89-81ed247b1544"
      },
      "outputs": [
        {
          "data": {
            "text/plain": [
              "2"
            ]
          },
          "execution_count": 4,
          "metadata": {},
          "output_type": "execute_result"
        }
      ],
      "source": [
        "subtract(4, 2)"
      ]
    },
    {
      "cell_type": "markdown",
      "metadata": {
        "id": "IU912fWrDi4y"
      },
      "source": [
        "### 함수의 문법\n",
        "def (함수명) (매개변수):\n",
        "\n",
        "&nbsp;&nbsp;&nbsp;&nbsp;&nbsp; (실행할 내용)"
      ]
    },
    {
      "cell_type": "code",
      "execution_count": 5,
      "metadata": {
        "colab": {
          "base_uri": "https://localhost:8080/"
        },
        "id": "-J9o7fhKDdTw",
        "outputId": "059a7a43-79c8-4dd7-8242-680b40be0dfe"
      },
      "outputs": [
        {
          "name": "stdout",
          "output_type": "stream",
          "text": [
            "None\n"
          ]
        }
      ],
      "source": [
        "# 문제 1: 아래 함수의 출력값은?\n",
        "def test1(a, b):\n",
        "  a + b\n",
        "\n",
        "print(test1(1, 2))"
      ]
    },
    {
      "cell_type": "code",
      "execution_count": null,
      "metadata": {
        "colab": {
          "base_uri": "https://localhost:8080/"
        },
        "id": "deIljOlEE11F",
        "outputId": "8bf288a3-b321-4280-ac1a-c59d529bfcac"
      },
      "outputs": [
        {
          "name": "stdout",
          "output_type": "stream",
          "text": [
            "3\n"
          ]
        }
      ],
      "source": [
        "# 문제 2: 아래 함수의 출력값은?\n",
        "def test2(a, b):\n",
        "  print(a + b)\n",
        "\n",
        "test2(1, 2)"
      ]
    },
    {
      "cell_type": "code",
      "execution_count": 7,
      "metadata": {},
      "outputs": [
        {
          "data": {
            "text/plain": [
              "3"
            ]
          },
          "execution_count": 7,
          "metadata": {},
          "output_type": "execute_result"
        }
      ],
      "source": [
        "# 문제 2-1: 아래 함수의 출력값은?\n",
        "def test2_1(a, b):\n",
        "  return (a + b)\n",
        "\n",
        "test2_1(1, 2)\n",
        "\n",
        "# 문제 3: 문제 2와 2-1의 함수들의 차이는 뭘까? -> 고민해보세요"
      ]
    },
    {
      "cell_type": "code",
      "execution_count": 9,
      "metadata": {
        "colab": {
          "base_uri": "https://localhost:8080/"
        },
        "id": "GrMYMjlCvysz",
        "outputId": "ce854b04-8b69-459c-8c11-676acd3bbafb"
      },
      "outputs": [
        {
          "data": {
            "text/plain": [
              "'너 T발 C야?'"
            ]
          },
          "execution_count": 9,
          "metadata": {},
          "output_type": "execute_result"
        }
      ],
      "source": [
        "# 함수에 매개변수가 없어도 된다\n",
        "def test3():\n",
        "  return '너 T발 C야?'\n",
        "\n",
        "test3()"
      ]
    },
    {
      "cell_type": "markdown",
      "metadata": {
        "id": "i9NExqQJIfxj"
      },
      "source": [
        "### Global과 Local의 차이\n",
        "\n",
        "전역변수: 코드 전체에서 사용되는 변수\n",
        "\n",
        "로컬 변수: 함수 내부에서만 사용되는 변수"
      ]
    },
    {
      "cell_type": "code",
      "execution_count": 13,
      "metadata": {
        "colab": {
          "base_uri": "https://localhost:8080/"
        },
        "id": "weAQOo_xIiSz",
        "outputId": "2a95d7ce-55f6-46d0-ebc9-44f6b84d676c"
      },
      "outputs": [
        {
          "name": "stdout",
          "output_type": "stream",
          "text": [
            "1\n",
            "1\n"
          ]
        }
      ],
      "source": [
        "# a => 전역변수\n",
        "a = 1\n",
        "def rtn_a ():\n",
        "  return a\n",
        "\n",
        "print(rtn_a())\n",
        "print(a)"
      ]
    },
    {
      "cell_type": "code",
      "execution_count": 12,
      "metadata": {
        "id": "s21nSTTHIzRF"
      },
      "outputs": [
        {
          "ename": "NameError",
          "evalue": "name 'b' is not defined",
          "output_type": "error",
          "traceback": [
            "\u001b[0;31m---------------------------------------------------------------------------\u001b[0m",
            "\u001b[0;31mNameError\u001b[0m                                 Traceback (most recent call last)",
            "Cell \u001b[0;32mIn[12], line 4\u001b[0m\n\u001b[1;32m      1\u001b[0m \u001b[39mdef\u001b[39;00m \u001b[39mrtn_b\u001b[39m ():\n\u001b[1;32m      2\u001b[0m   b \u001b[39m=\u001b[39m \u001b[39m1\u001b[39m\n\u001b[0;32m----> 4\u001b[0m \u001b[39mprint\u001b[39m(b) \u001b[39m#에러 발생\u001b[39;00m\n",
            "\u001b[0;31mNameError\u001b[0m: name 'b' is not defined"
          ]
        }
      ],
      "source": [
        "# b => 지역변수\n",
        "def rtn_b ():\n",
        "  b = 1\n",
        "\n",
        "print(b) #에러 발생"
      ]
    },
    {
      "cell_type": "code",
      "execution_count": 14,
      "metadata": {
        "colab": {
          "base_uri": "https://localhost:8080/"
        },
        "id": "-UoI2NT4N0K7",
        "outputId": "cd8e74aa-868a-438d-a8c0-d1a1d6d45957"
      },
      "outputs": [
        {
          "name": "stdout",
          "output_type": "stream",
          "text": [
            "1\n",
            "10\n"
          ]
        }
      ],
      "source": [
        "# 전역변수 a가 1 -> 10 재정의 된다\n",
        "a = 1\n",
        "print(a)\n",
        "\n",
        "def rtn_a():\n",
        "  a = 10\n",
        "  return a\n",
        "\n",
        "a = rtn_a()\n",
        "print(a)"
      ]
    },
    {
      "cell_type": "code",
      "execution_count": 15,
      "metadata": {
        "colab": {
          "base_uri": "https://localhost:8080/"
        },
        "id": "6Y4neZx-wxe0",
        "outputId": "b2c01650-2d43-495d-af71-fdb51ee61d7c"
      },
      "outputs": [
        {
          "name": "stdout",
          "output_type": "stream",
          "text": [
            "1\n",
            "10\n"
          ]
        }
      ],
      "source": [
        "a = 1\n",
        "print(a)\n",
        "\n",
        "def rtn_a():\n",
        "  a = 10\n",
        "  print(a)\n",
        "\n",
        "rtn_a()"
      ]
    },
    {
      "cell_type": "markdown",
      "metadata": {
        "id": "YBy5u31VIR35"
      },
      "source": [
        "### print와 return의 차이"
      ]
    },
    {
      "cell_type": "markdown",
      "metadata": {
        "id": "Y1oQMO2fIZwL"
      },
      "source": [
        "return은 함수 안에서만 사용됨 -> 함수 내부의 결과값을 함수 밖으로 내보내는 역할\n",
        "\n",
        "print는 출력 함수, 결과값을 내보내주지 못함"
      ]
    },
    {
      "cell_type": "code",
      "execution_count": 16,
      "metadata": {
        "colab": {
          "base_uri": "https://localhost:8080/",
          "height": 136
        },
        "id": "iCYZGYBOIVTA",
        "outputId": "20d36738-f4e4-4bc6-a59f-59ee6c7e785b"
      },
      "outputs": [
        {
          "ename": "SyntaxError",
          "evalue": "'return' outside function (467879276.py, line 1)",
          "output_type": "error",
          "traceback": [
            "\u001b[0;36m  Cell \u001b[0;32mIn[16], line 1\u001b[0;36m\u001b[0m\n\u001b[0;31m    return 1\u001b[0m\n\u001b[0m    ^\u001b[0m\n\u001b[0;31mSyntaxError\u001b[0m\u001b[0;31m:\u001b[0m 'return' outside function\n"
          ]
        }
      ],
      "source": [
        "return 1"
      ]
    },
    {
      "cell_type": "code",
      "execution_count": 17,
      "metadata": {
        "id": "01EKxdEYIYLN"
      },
      "outputs": [],
      "source": [
        "def printing (a, b):\n",
        "  print(a + b)\n",
        "\n",
        "def returning (a, b):\n",
        "  return a + b"
      ]
    },
    {
      "cell_type": "code",
      "execution_count": 19,
      "metadata": {
        "colab": {
          "base_uri": "https://localhost:8080/"
        },
        "id": "K3l_Gbr1JaPw",
        "outputId": "54668fe8-0e99-433b-b4dd-7fba86605479"
      },
      "outputs": [
        {
          "name": "stdout",
          "output_type": "stream",
          "text": [
            "3\n",
            "None\n"
          ]
        }
      ],
      "source": [
        "printing_result = printing(1, 2)\n",
        "print(printing_result) # None 출력"
      ]
    },
    {
      "cell_type": "code",
      "execution_count": 20,
      "metadata": {
        "colab": {
          "base_uri": "https://localhost:8080/"
        },
        "id": "C2dHtrsaJfr_",
        "outputId": "cc0c5633-a878-427c-bbd1-0d44b9617db6"
      },
      "outputs": [
        {
          "name": "stdout",
          "output_type": "stream",
          "text": [
            "3\n"
          ]
        }
      ],
      "source": [
        "returning_result = returning(1, 2)\n",
        "print(returning_result) # 3 출력"
      ]
    },
    {
      "cell_type": "markdown",
      "metadata": {
        "id": "TVb_LFGMK7_9"
      },
      "source": [
        "여러 변수를 return 해줄 수 있다"
      ]
    },
    {
      "cell_type": "code",
      "execution_count": 21,
      "metadata": {
        "colab": {
          "base_uri": "https://localhost:8080/"
        },
        "id": "4gv0NVpoK-E6",
        "outputId": "3f123a77-a621-4ead-bf58-7feea7797db3"
      },
      "outputs": [
        {
          "name": "stdout",
          "output_type": "stream",
          "text": [
            "add is 14\n",
            "subtract is 6\n",
            "multiple is 40\n"
          ]
        }
      ],
      "source": [
        "def multi_return (a, b):\n",
        "  return a+b, a-b, a*b\n",
        "\n",
        "add, subtract, multiple = multi_return(10, 4)\n",
        "\n",
        "print(f\"add is {add}\")\n",
        "print(f\"subtract is {subtract}\")\n",
        "print(f\"multiple is {multiple}\")"
      ]
    },
    {
      "cell_type": "code",
      "execution_count": 22,
      "metadata": {
        "colab": {
          "base_uri": "https://localhost:8080/"
        },
        "id": "VPo3bmaqLVHU",
        "outputId": "035d07b4-5e90-4045-b183-927d237ba562"
      },
      "outputs": [
        {
          "name": "stdout",
          "output_type": "stream",
          "text": [
            "14\n",
            "6\n",
            "40\n"
          ]
        }
      ],
      "source": [
        "print(add)\n",
        "print(subtract)\n",
        "print(multiple)"
      ]
    },
    {
      "cell_type": "markdown",
      "metadata": {
        "id": "wJ4o_2gLLlHP"
      },
      "source": [
        "### 입력 값이 몇 개가 될 지 모를 때\n",
        "입력 값의 개수가 정해져 있지 않다면?\n",
        "\n",
        "*args를 이용하자\n",
        "\n",
        "이해 난이도 높음"
      ]
    },
    {
      "cell_type": "code",
      "execution_count": 23,
      "metadata": {
        "colab": {
          "base_uri": "https://localhost:8080/"
        },
        "id": "LxUev34fL0D4",
        "outputId": "23281dcf-b765-4e88-d3d1-0dda8da7ae73"
      },
      "outputs": [
        {
          "name": "stdout",
          "output_type": "stream",
          "text": [
            "8\n",
            "10\n"
          ]
        }
      ],
      "source": [
        "# 입력값의 개수를 세는 함수를 만들고 싶다면\n",
        "\n",
        "def counting (*args):\n",
        "  count = 0\n",
        "  for i in args:\n",
        "    count = count + 1\n",
        "  return count\n",
        "\n",
        "\n",
        "print(counting(0,0,0,0,0,0,0,0))\n",
        "print(counting(1,3,21,421,4,214,21,4,214,12))"
      ]
    },
    {
      "cell_type": "code",
      "execution_count": 24,
      "metadata": {
        "colab": {
          "base_uri": "https://localhost:8080/"
        },
        "id": "CrfJb04PyipP",
        "outputId": "1be9a6b5-5444-440b-b18c-0b7956c7a695"
      },
      "outputs": [
        {
          "name": "stdout",
          "output_type": "stream",
          "text": [
            "(1, 2, 3, 4)\n"
          ]
        }
      ],
      "source": [
        "def show_args(*args):\n",
        "  return (args)\n",
        "\n",
        "print(show_args(1, 2, 3, 4))"
      ]
    },
    {
      "cell_type": "code",
      "execution_count": 25,
      "metadata": {
        "colab": {
          "base_uri": "https://localhost:8080/"
        },
        "id": "jfL8a52lMPFV",
        "outputId": "35523e0c-f032-4cea-cc9b-d0cf5af9a436"
      },
      "outputs": [
        {
          "name": "stdout",
          "output_type": "stream",
          "text": [
            "15\n",
            "54\n"
          ]
        }
      ],
      "source": [
        "# 입력값을 모두 더하는 함수를 만들고 싶다면\n",
        "\n",
        "def adding (*args):\n",
        "  result = 0\n",
        "  for i in args:\n",
        "    result += i\n",
        "  return result\n",
        "\n",
        "print(adding(1,2,3,4,5))\n",
        "print(adding(3,2,2,2,2,2,2,2,21,1,6,9))"
      ]
    },
    {
      "cell_type": "markdown",
      "metadata": {
        "id": "4OjwWAEjMv3n"
      },
      "source": [
        "### 함수의 매개변수 지정\n",
        "미리 함수의 매개변수를 지정하거나\n",
        "\n",
        "인수를 특정 매개변수로 지정가능"
      ]
    },
    {
      "cell_type": "code",
      "execution_count": 26,
      "metadata": {
        "colab": {
          "base_uri": "https://localhost:8080/"
        },
        "id": "d3iX7ZAKM8WW",
        "outputId": "bf3edfde-4c93-4a97-947c-7385edec5c99"
      },
      "outputs": [
        {
          "name": "stdout",
          "output_type": "stream",
          "text": [
            "8\n",
            "16\n"
          ]
        }
      ],
      "source": [
        "def adding (a, b=3):\n",
        "  return a + b\n",
        "\n",
        "\n",
        "print(adding(5))\n",
        "print(adding(6, 10))"
      ]
    },
    {
      "cell_type": "code",
      "execution_count": 27,
      "metadata": {
        "colab": {
          "base_uri": "https://localhost:8080/"
        },
        "id": "QtEmkjBTNbtb",
        "outputId": "66ac95a2-ef22-483b-8539-6172d24ac4b7"
      },
      "outputs": [
        {
          "name": "stdout",
          "output_type": "stream",
          "text": [
            "4\n",
            "-4\n"
          ]
        }
      ],
      "source": [
        "def subtract (a, b):\n",
        "  return a - b\n",
        "\n",
        "\n",
        "print(subtract(5, 1))\n",
        "print(subtract(b=5, a=1))"
      ]
    },
    {
      "cell_type": "markdown",
      "metadata": {
        "id": "kubO5FWCOF08"
      },
      "source": [
        "### 임의 함수 lambda\n",
        "함수명 = lambda 매개변수1, 매개변수2, ... : 매개변수를 이용한 표현식\n",
        "\n",
        "def 사용하지 않아도 될 정도로 간단하거나 def를 사용할 수 없는 곳에 사용"
      ]
    },
    {
      "cell_type": "code",
      "execution_count": 28,
      "metadata": {
        "colab": {
          "base_uri": "https://localhost:8080/"
        },
        "id": "gpJm1DQWOJm0",
        "outputId": "1846437a-8adf-48b2-845c-1d7714639752"
      },
      "outputs": [
        {
          "name": "stdout",
          "output_type": "stream",
          "text": [
            "3\n"
          ]
        }
      ],
      "source": [
        "adding = lambda a, b: a + b\n",
        "\n",
        "print(adding(1, 2))"
      ]
    },
    {
      "cell_type": "markdown",
      "metadata": {
        "id": "yq8yl5_WOfxg"
      },
      "source": [
        "lambda로 만든 함수는 return 명령어가 없어도 결과값을 리턴"
      ]
    },
    {
      "cell_type": "code",
      "execution_count": 29,
      "metadata": {
        "id": "4TrjmzpbObL6"
      },
      "outputs": [],
      "source": [
        "args_adding = lambda *args: sum(args)"
      ]
    },
    {
      "cell_type": "code",
      "execution_count": 30,
      "metadata": {
        "colab": {
          "base_uri": "https://localhost:8080/"
        },
        "id": "q2lpKyNxPFwm",
        "outputId": "2108b39a-7ecd-41a8-e336-0691822b209d"
      },
      "outputs": [
        {
          "name": "stdout",
          "output_type": "stream",
          "text": [
            "1212\n"
          ]
        }
      ],
      "source": [
        "print(args_adding(1,23,3,4,4,5,2,523,53,25,32,532,5))"
      ]
    },
    {
      "cell_type": "markdown",
      "metadata": {
        "id": "KfGbIZ5udemn"
      },
      "source": [
        "# 백준 문제 풀이\n",
        "정수 N개의 합 [15596] : https://www.acmicpc.net/problem/15596\n",
        "\n",
        "셀프 넘버 [4673] : https://www.acmicpc.net/problem/4673\n"
      ]
    },
    {
      "cell_type": "code",
      "execution_count": 3,
      "metadata": {},
      "outputs": [
        {
          "data": {
            "text/plain": [
              "10"
            ]
          },
          "execution_count": 3,
          "metadata": {},
          "output_type": "execute_result"
        }
      ],
      "source": [
        "# [15596] 풀이 과정\n",
        "\n",
        "def sum_of_list (a):\n",
        "    result = 0\n",
        "    for i in range(len(a)):\n",
        "        result += a[i]\n",
        "    return result\n",
        "\n",
        "sum_of_list([1,2,3,4])\n"
      ]
    },
    {
      "cell_type": "code",
      "execution_count": 2,
      "metadata": {},
      "outputs": [
        {
          "name": "stdout",
          "output_type": "stream",
          "text": [
            "[1, 3, 5, 7, 9, 20, 31, 42, 53, 64, 75, 86, 97, 108, 110, 121, 132, 143, 154, 165, 176, 187, 198, 209, 211, 222, 233, 244, 255, 266, 277, 288, 299, 310, 312, 323, 334, 345, 356, 367, 378, 389, 400, 411, 413, 424, 435, 446, 457, 468, 479, 490, 501, 512, 514, 525, 536, 547, 558, 569, 580, 591, 602, 613, 615, 626, 637, 648, 659, 670, 681, 692, 703, 714, 716, 727, 738, 749, 760, 771, 782, 793, 804, 815, 817, 828, 839, 850, 861, 872, 883, 894, 905, 916, 918, 929, 940, 951, 962, 973, 984, 995, 1006, 1021, 1032, 1043, 1054, 1065, 1076, 1087, 1098, 1109, 1111, 1122, 1133, 1144, 1155, 1166, 1177, 1188, 1199, 1210, 1212, 1223, 1234, 1245, 1256, 1267, 1278, 1289, 1300, 1311, 1313, 1324, 1335, 1346, 1357, 1368, 1379, 1390, 1401, 1412, 1414, 1425, 1436, 1447, 1458, 1469, 1480, 1491, 1502, 1513, 1515, 1526, 1537, 1548, 1559, 1570, 1581, 1592, 1603, 1614, 1616, 1627, 1638, 1649, 1660, 1671, 1682, 1693, 1704, 1715, 1717, 1728, 1739, 1750, 1761, 1772, 1783, 1794, 1805, 1816, 1818, 1829, 1840, 1851, 1862, 1873, 1884, 1895, 1906, 1917, 1919, 1930, 1941, 1952, 1963, 1974, 1985, 1996, 2007, 2022, 2033, 2044, 2055, 2066, 2077, 2088, 2099, 2110, 2112, 2123, 2134, 2145, 2156, 2167, 2178, 2189, 2200, 2211, 2213, 2224, 2235, 2246, 2257, 2268, 2279, 2290, 2301, 2312, 2314, 2325, 2336, 2347, 2358, 2369, 2380, 2391, 2402, 2413, 2415, 2426, 2437, 2448, 2459, 2470, 2481, 2492, 2503, 2514, 2516, 2527, 2538, 2549, 2560, 2571, 2582, 2593, 2604, 2615, 2617, 2628, 2639, 2650, 2661, 2672, 2683, 2694, 2705, 2716, 2718, 2729, 2740, 2751, 2762, 2773, 2784, 2795, 2806, 2817, 2819, 2830, 2841, 2852, 2863, 2874, 2885, 2896, 2907, 2918, 2920, 2931, 2942, 2953, 2964, 2975, 2986, 2997, 3008, 3023, 3034, 3045, 3056, 3067, 3078, 3089, 3100, 3111, 3113, 3124, 3135, 3146, 3157, 3168, 3179, 3190, 3201, 3212, 3214, 3225, 3236, 3247, 3258, 3269, 3280, 3291, 3302, 3313, 3315, 3326, 3337, 3348, 3359, 3370, 3381, 3392, 3403, 3414, 3416, 3427, 3438, 3449, 3460, 3471, 3482, 3493, 3504, 3515, 3517, 3528, 3539, 3550, 3561, 3572, 3583, 3594, 3605, 3616, 3618, 3629, 3640, 3651, 3662, 3673, 3684, 3695, 3706, 3717, 3719, 3730, 3741, 3752, 3763, 3774, 3785, 3796, 3807, 3818, 3820, 3831, 3842, 3853, 3864, 3875, 3886, 3897, 3908, 3919, 3921, 3932, 3943, 3954, 3965, 3976, 3987, 3998, 4009, 4024, 4035, 4046, 4057, 4068, 4079, 4090, 4101, 4112, 4114, 4125, 4136, 4147, 4158, 4169, 4180, 4191, 4202, 4213, 4215, 4226, 4237, 4248, 4259, 4270, 4281, 4292, 4303, 4314, 4316, 4327, 4338, 4349, 4360, 4371, 4382, 4393, 4404, 4415, 4417, 4428, 4439, 4450, 4461, 4472, 4483, 4494, 4505, 4516, 4518, 4529, 4540, 4551, 4562, 4573, 4584, 4595, 4606, 4617, 4619, 4630, 4641, 4652, 4663, 4674, 4685, 4696, 4707, 4718, 4720, 4731, 4742, 4753, 4764, 4775, 4786, 4797, 4808, 4819, 4821, 4832, 4843, 4854, 4865, 4876, 4887, 4898, 4909, 4920, 4922, 4933, 4944, 4955, 4966, 4977, 4988, 4999, 5010, 5025, 5036, 5047, 5058, 5069, 5080, 5091, 5102, 5113, 5115, 5126, 5137, 5148, 5159, 5170, 5181, 5192, 5203, 5214, 5216, 5227, 5238, 5249, 5260, 5271, 5282, 5293, 5304, 5315, 5317, 5328, 5339, 5350, 5361, 5372, 5383, 5394, 5405, 5416, 5418, 5429, 5440, 5451, 5462, 5473, 5484, 5495, 5506, 5517, 5519, 5530, 5541, 5552, 5563, 5574, 5585, 5596, 5607, 5618, 5620, 5631, 5642, 5653, 5664, 5675, 5686, 5697, 5708, 5719, 5721, 5732, 5743, 5754, 5765, 5776, 5787, 5798, 5809, 5820, 5822, 5833, 5844, 5855, 5866, 5877, 5888, 5899, 5910, 5921, 5923, 5934, 5945, 5956, 5967, 5978, 5989, 6000, 6011, 6026, 6037, 6048, 6059, 6070, 6081, 6092, 6103, 6114, 6116, 6127, 6138, 6149, 6160, 6171, 6182, 6193, 6204, 6215, 6217, 6228, 6239, 6250, 6261, 6272, 6283, 6294, 6305, 6316, 6318, 6329, 6340, 6351, 6362, 6373, 6384, 6395, 6406, 6417, 6419, 6430, 6441, 6452, 6463, 6474, 6485, 6496, 6507, 6518, 6520, 6531, 6542, 6553, 6564, 6575, 6586, 6597, 6608, 6619, 6621, 6632, 6643, 6654, 6665, 6676, 6687, 6698, 6709, 6720, 6722, 6733, 6744, 6755, 6766, 6777, 6788, 6799, 6810, 6821, 6823, 6834, 6845, 6856, 6867, 6878, 6889, 6900, 6911, 6922, 6924, 6935, 6946, 6957, 6968, 6979, 6990, 7001, 7012, 7027, 7038, 7049, 7060, 7071, 7082, 7093, 7104, 7115, 7117, 7128, 7139, 7150, 7161, 7172, 7183, 7194, 7205, 7216, 7218, 7229, 7240, 7251, 7262, 7273, 7284, 7295, 7306, 7317, 7319, 7330, 7341, 7352, 7363, 7374, 7385, 7396, 7407, 7418, 7420, 7431, 7442, 7453, 7464, 7475, 7486, 7497, 7508, 7519, 7521, 7532, 7543, 7554, 7565, 7576, 7587, 7598, 7609, 7620, 7622, 7633, 7644, 7655, 7666, 7677, 7688, 7699, 7710, 7721, 7723, 7734, 7745, 7756, 7767, 7778, 7789, 7800, 7811, 7822, 7824, 7835, 7846, 7857, 7868, 7879, 7890, 7901, 7912, 7923, 7925, 7936, 7947, 7958, 7969, 7980, 7991, 8002, 8013, 8028, 8039, 8050, 8061, 8072, 8083, 8094, 8105, 8116, 8118, 8129, 8140, 8151, 8162, 8173, 8184, 8195, 8206, 8217, 8219, 8230, 8241, 8252, 8263, 8274, 8285, 8296, 8307, 8318, 8320, 8331, 8342, 8353, 8364, 8375, 8386, 8397, 8408, 8419, 8421, 8432, 8443, 8454, 8465, 8476, 8487, 8498, 8509, 8520, 8522, 8533, 8544, 8555, 8566, 8577, 8588, 8599, 8610, 8621, 8623, 8634, 8645, 8656, 8667, 8678, 8689, 8700, 8711, 8722, 8724, 8735, 8746, 8757, 8768, 8779, 8790, 8801, 8812, 8823, 8825, 8836, 8847, 8858, 8869, 8880, 8891, 8902, 8913, 8924, 8926, 8937, 8948, 8959, 8970, 8981, 8992, 9003, 9014, 9029, 9040, 9051, 9062, 9073, 9084, 9095, 9106, 9117, 9119, 9130, 9141, 9152, 9163, 9174, 9185, 9196, 9207, 9218, 9220, 9231, 9242, 9253, 9264, 9275, 9286, 9297, 9308, 9319, 9321, 9332, 9343, 9354, 9365, 9376, 9387, 9398, 9409, 9420, 9422, 9433, 9444, 9455, 9466, 9477, 9488, 9499, 9510, 9521, 9523, 9534, 9545, 9556, 9567, 9578, 9589, 9600, 9611, 9622, 9624, 9635, 9646, 9657, 9668, 9679, 9690, 9701, 9712, 9723, 9725, 9736, 9747, 9758, 9769, 9780, 9791, 9802, 9813, 9824, 9826, 9837, 9848, 9859, 9870, 9881, 9892, 9903, 9914, 9925, 9927, 9938, 9949, 9960, 9971, 9982, 9993]\n"
          ]
        }
      ],
      "source": [
        "# [4673] 풀이 과정\n",
        "def self_number():\n",
        "    list = []\n",
        "    for i in range (1,10001):\n",
        "        result = i\n",
        "        for n in map(int,str(i)):\n",
        "            result += int(n)\n",
        "        if result < 10001:\n",
        "            list.append(result)\n",
        "\n",
        "    ans = sorted(set(range(1,10001)) - set(list))\n",
        "    return ans\n",
        "\n",
        "print(self_number())"
      ]
    },
    {
      "cell_type": "code",
      "execution_count": null,
      "metadata": {},
      "outputs": [],
      "source": []
    }
  ],
  "metadata": {
    "colab": {
      "provenance": []
    },
    "kernelspec": {
      "display_name": "Python 3",
      "name": "python3"
    },
    "language_info": {
      "codemirror_mode": {
        "name": "ipython",
        "version": 3
      },
      "file_extension": ".py",
      "mimetype": "text/x-python",
      "name": "python",
      "nbconvert_exporter": "python",
      "pygments_lexer": "ipython3",
      "version": "3.10.8"
    }
  },
  "nbformat": 4,
  "nbformat_minor": 0
}
